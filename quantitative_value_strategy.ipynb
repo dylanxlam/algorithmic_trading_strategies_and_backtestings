{
 "cells": [
  {
   "cell_type": "markdown",
   "metadata": {},
   "source": [
    "# **Quantitative Value Strategy**"
   ]
  },
  {
   "cell_type": "markdown",
   "metadata": {},
   "source": [
    "In volatile and uncertain market times, intrinsic value investing takes on less of a risk than momentum investing, which is a stronger strategy in a bull market. \n",
    "\n"
   ]
  },
  {
   "cell_type": "markdown",
   "metadata": {},
   "source": [
    "**\"Value investing\"** means investing in the stocks that are the cheapest relative to common measures of business value (like earnings or assets).\n",
    "\n",
    "Value investing was opularized by investors like Warren Buffet, Seth Klarman, and Benjamin Graham.\n",
    "\n",
    "For this project, we are going to build an investing strategy that selects the 50 stocks with the best value metrics. From there, we will calculate recommended trades for an equal-weight portfolio of these 50 stocks."
   ]
  },
  {
   "cell_type": "markdown",
   "metadata": {},
   "source": [
    "##### **Library Imports**"
   ]
  },
  {
   "cell_type": "code",
   "execution_count": 41,
   "metadata": {},
   "outputs": [],
   "source": [
    "import numpy as np\n",
    "import pandas as pd \n",
    "import xlsxwriter\n",
    "import requests\n",
    "from scipy import stats\n",
    "import math"
   ]
  },
  {
   "cell_type": "markdown",
   "metadata": {},
   "source": [
    "##### **Importing Our List of Stocks & API Token**"
   ]
  },
  {
   "cell_type": "markdown",
   "metadata": {},
   "source": [
    "We will need to import our list of stocks and our API token before proceeding. We will make sure the .csv file is still in your working directory and import it with the following command:"
   ]
  },
  {
   "cell_type": "markdown",
   "metadata": {},
   "source": [
    "**Documentation Page for Public API:** https://iexcloud.io/docs/api/\n",
    "\n",
    "1. We need is a **base URL** for the API: a URL that will start every HTTP request. (You have to add which specific endpoints that you want to retrieve from the API. Most APIs only expose certain data through each endpoint, which makes things faster if you only need to retrieve certain data. Ex. If you have the Google Maps API, you might only want the name of the location, so you would send coordinates and get back its name. You would not get back other information like population.)\n",
    "\n",
    "    a. **Sandbox mode of API:** randomized data, free\n",
    "        1. Find **Testing Sandbox** on webpage"
   ]
  },
  {
   "cell_type": "markdown",
   "metadata": {},
   "source": [
    "**Acquiring an API Token**\n",
    "\n",
    "- Now it's time to import our IEX Cloud API token. This is the data provider that we will be using throughout this course.\n",
    "\n",
    "- API tokens (and other sensitive information) should be stored in a secrets.py file that doesn't get pushed to your local Git repository. We'll be using a sandbox API token in this course, which means that the data we'll use is randomly-generated and (more importantly) has no cost associated with it.\n",
    "\n",
    "- Download your secrets.py file. Move the file into the same directory as this Jupyter Notebook before proceeding."
   ]
  },
  {
   "cell_type": "code",
   "execution_count": 42,
   "metadata": {},
   "outputs": [],
   "source": [
    "stocks = pd.read_csv('sp_500_stocks.csv')\n",
    "from secret import IEX_CLOUD_API_TOKEN"
   ]
  },
  {
   "cell_type": "markdown",
   "metadata": {},
   "source": [
    "##### **Making Our First API Call**\n",
    "- Making our version of our value screener\n",
    "- We will start by building a simple value screener that ranks securities based on a single metric (price-to-earnings ratio)\n",
    "    - price-earnings-ratio: price/yearly earnings forecast\n",
    "        - price-earnings (peRatio) on IEXcloud\n",
    "            - on Quote endpoint: look on JSON RESPONSE: shows 'latestPrice' and 'peRatio'\n",
    "            - on Quote's HTTP REQUEST: GET /stock/{symbol}/quote/{field}, copy into notebook\n"
   ]
  },
  {
   "cell_type": "code",
   "execution_count": 43,
   "metadata": {},
   "outputs": [
    {
     "name": "stdout",
     "output_type": "stream",
     "text": [
      "403\n"
     ]
    }
   ],
   "source": [
    "symbol = 'aapl'\n",
    "\n",
    "# api_url = https://sandbox.iexapis.com\n",
    "# 1. Add stable to have stable version of API (as opposed to bleeding-edge version with \\\n",
    "    # features that  are not full tested)\n",
    "# 2. take '{field}' off the end to parse entire JSON response instead of a single metric\n",
    "# 3. Make it an f'\n",
    "# 4. Add authentication token: interpolate with ?token = (iex cloud api token)\n",
    "api_url = f'https://sandbox.iexapis.com/stable/stock/{symbol}/quote?token={IEX_CLOUD_API_TOKEN}'\n",
    "\n",
    "# Create API call using requests library\n",
    "data = requests.get(api_url)\n",
    "\n",
    "# print status code to show if HTTP request is succesful\n",
    "print(data.status_code)\n"
   ]
  },
  {
   "cell_type": "markdown",
   "metadata": {},
   "source": [
    "2:57:45\n",
    "34:36"
   ]
  }
 ],
 "metadata": {
  "kernelspec": {
   "display_name": "myenv",
   "language": "python",
   "name": "python3"
  },
  "language_info": {
   "codemirror_mode": {
    "name": "ipython",
    "version": 3
   },
   "file_extension": ".py",
   "mimetype": "text/x-python",
   "name": "python",
   "nbconvert_exporter": "python",
   "pygments_lexer": "ipython3",
   "version": "3.8.17"
  },
  "orig_nbformat": 4
 },
 "nbformat": 4,
 "nbformat_minor": 2
}
